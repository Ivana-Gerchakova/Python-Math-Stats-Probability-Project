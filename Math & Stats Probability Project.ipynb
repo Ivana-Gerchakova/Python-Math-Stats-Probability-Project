{
  "cells": [
    {
      "cell_type": "markdown",
      "metadata": {
        "id": "LdKd1E7qG72S"
      },
      "source": [
        "2.The file MajorSalary.xlsx contains data about monthly salary data given an employee’s major. \n",
        "\n",
        "a) Consider all the data. Describe the distribution of the data (center, variability, skewness). Use an appropriate visualization to support your conclusion.\n",
        "\n",
        "b) Now consider the data categorized by major. By using an appropriate visual display, comment on any similarities or differences in the distributions of salary based on the major."
      ]
    },
    {
      "cell_type": "code",
      "execution_count": null,
      "metadata": {
        "id": "M1su-_AfG72X"
      },
      "outputs": [],
      "source": [
        "import pandas as pd\n",
        "import numpy as np\n",
        "import matplotlib.pyplot as plt\n",
        "import seaborn as sns\n",
        "import scipy.stats as stat\n",
        "from scipy.stats import skew"
      ]
    },
    {
      "cell_type": "code",
      "execution_count": null,
      "metadata": {
        "id": "SQ1f7VFrG72Y",
        "outputId": "bf967ec7-f532-4613-fdb1-1d0b8503254a"
      },
      "outputs": [
        {
          "data": {
            "text/html": [
              "<div>\n",
              "<style scoped>\n",
              "    .dataframe tbody tr th:only-of-type {\n",
              "        vertical-align: middle;\n",
              "    }\n",
              "\n",
              "    .dataframe tbody tr th {\n",
              "        vertical-align: top;\n",
              "    }\n",
              "\n",
              "    .dataframe thead th {\n",
              "        text-align: right;\n",
              "    }\n",
              "</style>\n",
              "<table border=\"1\" class=\"dataframe\">\n",
              "  <thead>\n",
              "    <tr style=\"text-align: right;\">\n",
              "      <th></th>\n",
              "      <th>major</th>\n",
              "      <th>salary</th>\n",
              "    </tr>\n",
              "  </thead>\n",
              "  <tbody>\n",
              "    <tr>\n",
              "      <th>0</th>\n",
              "      <td>Management</td>\n",
              "      <td>3330</td>\n",
              "    </tr>\n",
              "    <tr>\n",
              "      <th>1</th>\n",
              "      <td>Management</td>\n",
              "      <td>2700</td>\n",
              "    </tr>\n",
              "    <tr>\n",
              "      <th>2</th>\n",
              "      <td>Finance</td>\n",
              "      <td>3155</td>\n",
              "    </tr>\n",
              "    <tr>\n",
              "      <th>3</th>\n",
              "      <td>Accounting</td>\n",
              "      <td>3855</td>\n",
              "    </tr>\n",
              "    <tr>\n",
              "      <th>4</th>\n",
              "      <td>Info Systems</td>\n",
              "      <td>4220</td>\n",
              "    </tr>\n",
              "    <tr>\n",
              "      <th>...</th>\n",
              "      <td>...</td>\n",
              "      <td>...</td>\n",
              "    </tr>\n",
              "    <tr>\n",
              "      <th>106</th>\n",
              "      <td>Management</td>\n",
              "      <td>3080</td>\n",
              "    </tr>\n",
              "    <tr>\n",
              "      <th>107</th>\n",
              "      <td>Management</td>\n",
              "      <td>3615</td>\n",
              "    </tr>\n",
              "    <tr>\n",
              "      <th>108</th>\n",
              "      <td>Finance</td>\n",
              "      <td>3800</td>\n",
              "    </tr>\n",
              "    <tr>\n",
              "      <th>109</th>\n",
              "      <td>Info Systems</td>\n",
              "      <td>2830</td>\n",
              "    </tr>\n",
              "    <tr>\n",
              "      <th>110</th>\n",
              "      <td>Marketing</td>\n",
              "      <td>2530</td>\n",
              "    </tr>\n",
              "  </tbody>\n",
              "</table>\n",
              "<p>111 rows × 2 columns</p>\n",
              "</div>"
            ],
            "text/plain": [
              "            major  salary\n",
              "0      Management    3330\n",
              "1      Management    2700\n",
              "2         Finance    3155\n",
              "3      Accounting    3855\n",
              "4    Info Systems    4220\n",
              "..            ...     ...\n",
              "106    Management    3080\n",
              "107    Management    3615\n",
              "108       Finance    3800\n",
              "109  Info Systems    2830\n",
              "110     Marketing    2530\n",
              "\n",
              "[111 rows x 2 columns]"
            ]
          },
          "execution_count": 5,
          "metadata": {},
          "output_type": "execute_result"
        }
      ],
      "source": [
        "df = pd.read_csv('major_salary.csv')\n",
        "df"
      ]
    },
    {
      "cell_type": "code",
      "execution_count": null,
      "metadata": {
        "id": "lkXDub8zG72a",
        "outputId": "395cca15-e3fe-417d-ec3a-08eed06492cd"
      },
      "outputs": [
        {
          "data": {
            "text/html": [
              "<div>\n",
              "<style scoped>\n",
              "    .dataframe tbody tr th:only-of-type {\n",
              "        vertical-align: middle;\n",
              "    }\n",
              "\n",
              "    .dataframe tbody tr th {\n",
              "        vertical-align: top;\n",
              "    }\n",
              "\n",
              "    .dataframe thead th {\n",
              "        text-align: right;\n",
              "    }\n",
              "</style>\n",
              "<table border=\"1\" class=\"dataframe\">\n",
              "  <thead>\n",
              "    <tr style=\"text-align: right;\">\n",
              "      <th></th>\n",
              "      <th>major</th>\n",
              "      <th>salary</th>\n",
              "    </tr>\n",
              "  </thead>\n",
              "  <tbody>\n",
              "    <tr>\n",
              "      <th>count</th>\n",
              "      <td>111</td>\n",
              "      <td>111.000000</td>\n",
              "    </tr>\n",
              "    <tr>\n",
              "      <th>unique</th>\n",
              "      <td>5</td>\n",
              "      <td>NaN</td>\n",
              "    </tr>\n",
              "    <tr>\n",
              "      <th>top</th>\n",
              "      <td>Accounting</td>\n",
              "      <td>NaN</td>\n",
              "    </tr>\n",
              "    <tr>\n",
              "      <th>freq</th>\n",
              "      <td>28</td>\n",
              "      <td>NaN</td>\n",
              "    </tr>\n",
              "    <tr>\n",
              "      <th>mean</th>\n",
              "      <td>NaN</td>\n",
              "      <td>3640.225225</td>\n",
              "    </tr>\n",
              "    <tr>\n",
              "      <th>std</th>\n",
              "      <td>NaN</td>\n",
              "      <td>651.802880</td>\n",
              "    </tr>\n",
              "    <tr>\n",
              "      <th>min</th>\n",
              "      <td>NaN</td>\n",
              "      <td>2240.000000</td>\n",
              "    </tr>\n",
              "    <tr>\n",
              "      <th>25%</th>\n",
              "      <td>NaN</td>\n",
              "      <td>3165.000000</td>\n",
              "    </tr>\n",
              "    <tr>\n",
              "      <th>50%</th>\n",
              "      <td>NaN</td>\n",
              "      <td>3645.000000</td>\n",
              "    </tr>\n",
              "    <tr>\n",
              "      <th>75%</th>\n",
              "      <td>NaN</td>\n",
              "      <td>4025.000000</td>\n",
              "    </tr>\n",
              "    <tr>\n",
              "      <th>max</th>\n",
              "      <td>NaN</td>\n",
              "      <td>5650.000000</td>\n",
              "    </tr>\n",
              "  </tbody>\n",
              "</table>\n",
              "</div>"
            ],
            "text/plain": [
              "             major       salary\n",
              "count          111   111.000000\n",
              "unique           5          NaN\n",
              "top     Accounting          NaN\n",
              "freq            28          NaN\n",
              "mean           NaN  3640.225225\n",
              "std            NaN   651.802880\n",
              "min            NaN  2240.000000\n",
              "25%            NaN  3165.000000\n",
              "50%            NaN  3645.000000\n",
              "75%            NaN  4025.000000\n",
              "max            NaN  5650.000000"
            ]
          },
          "execution_count": 6,
          "metadata": {},
          "output_type": "execute_result"
        }
      ],
      "source": [
        "df.describe(include='all')"
      ]
    },
    {
      "cell_type": "code",
      "execution_count": null,
      "metadata": {
        "id": "IsokwVBJG72a",
        "outputId": "d889a2cf-e93c-4ca2-b82d-d0bfb4885cbf"
      },
      "outputs": [
        {
          "data": {
            "text/plain": [
              "array(['Management', 'Finance', 'Accounting', 'Info Systems', 'Marketing'],\n",
              "      dtype=object)"
            ]
          },
          "execution_count": 7,
          "metadata": {},
          "output_type": "execute_result"
        }
      ],
      "source": [
        "df['major'].unique()"
      ]
    },
    {
      "cell_type": "code",
      "execution_count": null,
      "metadata": {
        "id": "JBx9VY0WG72b",
        "outputId": "c256c918-0155-462e-a1c9-5b99daf3fe6b"
      },
      "outputs": [
        {
          "name": "stdout",
          "output_type": "stream",
          "text": [
            "Mean is: 3640.225225225225\n",
            "------------------------------\n",
            "Median is : 3645.0\n",
            "------------------------------\n",
            "Mode is : 0    3190\n",
            "1    3800\n",
            "Name: salary, dtype: int64\n"
          ]
        }
      ],
      "source": [
        "# Centar of the data (mean, median, mode)\n",
        "\n",
        "mean_salary=df['salary'].mean()\n",
        "print('Mean is:',mean_salary)\n",
        "print ('------------------------------')\n",
        "median_salary=df['salary'].median()\n",
        "print('Median is :',median_salary)\n",
        "print ('------------------------------')\n",
        "mode_salary=df['salary'].mode()\n",
        "print('Mode is :',mode_salary)"
      ]
    },
    {
      "cell_type": "code",
      "execution_count": null,
      "metadata": {
        "id": "c1NixmCjG72b",
        "outputId": "d09750e2-74f1-41f5-a460-42c16cda403d"
      },
      "outputs": [
        {
          "name": "stdout",
          "output_type": "stream",
          "text": [
            "Min is: 2240\n",
            "------------------------------\n",
            "Max is: 5650\n",
            "------------------------------\n",
            "Range is: 3410\n",
            "------------------------------\n",
            "Var is: 424846.99426699436\n",
            "------------------------------\n",
            "Std is: 651.8028799161556\n",
            "------------------------------\n",
            "Q1_salary is: 3165.0\n",
            "------------------------------\n",
            "Q3_salary is: 4025.0\n",
            "------------------------------\n",
            "IQR is: 860.0\n",
            "------------------------------\n",
            "Lowest_range_salary is: 1875.0\n",
            "------------------------------\n",
            "Higest_range_salary is: 5315.0\n"
          ]
        }
      ],
      "source": [
        "# Variability (range,variance,standard deviation and interquartile range (IQR))\n",
        "\n",
        "min_salary=df['salary'].min()\n",
        "print('Min is:',min_salary)\n",
        "print ('------------------------------')\n",
        "max_salary=df['salary'].max()\n",
        "print('Max is:',max_salary)\n",
        "print ('------------------------------')\n",
        "range_salary= max_salary-min_salary\n",
        "print('Range is:',range_salary)\n",
        "print ('------------------------------')\n",
        "var_salary=df['salary'].var()\n",
        "print('Var is:',var_salary)\n",
        "print ('------------------------------')\n",
        "std_salary=df['salary'].std()\n",
        "print('Std is:',std_salary)\n",
        "print ('------------------------------')\n",
        "Q1_salary = np.percentile(df['salary'], 25)\n",
        "print('Q1_salary is:',Q1_salary)\n",
        "print ('------------------------------')\n",
        "Q3_salary = np.percentile(df['salary'], 75)\n",
        "print('Q3_salary is:',Q3_salary)\n",
        "print ('------------------------------')\n",
        "IQR = Q3_salary - Q1_salary\n",
        "print('IQR is:',IQR)\n",
        "print ('------------------------------')\n",
        "lowest_range_salary = Q1_salary -1.5*IQR\n",
        "print('Lowest_range_salary is:',lowest_range_salary)\n",
        "print ('------------------------------')\n",
        "higest_range_salary = Q3_salary +1.5*IQR\n",
        "print('Higest_range_salary is:',higest_range_salary)"
      ]
    },
    {
      "cell_type": "code",
      "execution_count": null,
      "metadata": {
        "id": "Dlgf2Gl0G72c",
        "outputId": "78197fd6-987c-4f61-99fb-3a9629df17fb"
      },
      "outputs": [
        {
          "data": {
            "text/plain": [
              "0.5396853870144327"
            ]
          },
          "execution_count": 10,
          "metadata": {},
          "output_type": "execute_result"
        }
      ],
      "source": [
        "# Skewness\n",
        "\n",
        "from scipy.stats import skew\n",
        "\n",
        "skew(df['salary'].dropna())\n",
        "# print(skew(df['salary'], axis=0, bias=True))"
      ]
    },
    {
      "cell_type": "code",
      "execution_count": null,
      "metadata": {
        "id": "v54Pfwh_G72d",
        "outputId": "3d0d8586-92d9-434b-9b17-0f2598504a6d"
      },
      "outputs": [
        {
          "data": {
            "image/png": "[encoded data removed]",
            "text/plain": [
              "<Figure size 1080x720 with 1 Axes>"
            ]
          },
          "metadata": {
            "needs_background": "light"
          },
          "output_type": "display_data"
        }
      ],
      "source": [
        "# Visualizing all data-set with box plot\n",
        "\n",
        "plt.figure(figsize=(15,10))\n",
        "sns.set_style(\"whitegrid\")\n",
        "sns.boxplot(x='major', y='salary', data=df)\n",
        "plt.title('Major-Salary data-set')\n",
        "plt.xlabel('Major')\n",
        "plt.ylabel('Salary')\n",
        "plt.xticks(rotation=45)\n",
        "plt.show()"
      ]
    },
    {
      "cell_type": "markdown",
      "metadata": {
        "id": "hvxdhBEMG72e"
      },
      "source": [
        "b) Now consider the data categorized by major. By using an appropriate visual display, comment on any similarities or differences in the distributions of salary based on the major."
      ]
    },
    {
      "cell_type": "code",
      "execution_count": null,
      "metadata": {
        "id": "PxxKsO1wG72f",
        "outputId": "1e546988-8793-4afd-9835-f29354e3a698"
      },
      "outputs": [
        {
          "name": "stdout",
          "output_type": "stream",
          "text": [
            "          major  salary\n",
            "0    Management    3330\n",
            "1    Management    2700\n",
            "7    Management    3695\n",
            "15   Management    3175\n",
            "22   Management    3835\n",
            "31   Management    2630\n",
            "33   Management    4285\n",
            "43   Management    3440\n",
            "48   Management    2800\n",
            "50   Management    2840\n",
            "51   Management    3135\n",
            "54   Management    2240\n",
            "56   Management    2975\n",
            "57   Management    3275\n",
            "59   Management    3250\n",
            "62   Management    2685\n",
            "75   Management    2890\n",
            "81   Management    2865\n",
            "82   Management    4245\n",
            "87   Management    3365\n",
            "98   Management    3190\n",
            "102  Management    2780\n",
            "106  Management    3080\n",
            "107  Management    3615\n"
          ]
        }
      ],
      "source": [
        "grouped = df.groupby('major')\n",
        "print (grouped.get_group('Management'))"
      ]
    },
    {
      "cell_type": "code",
      "execution_count": null,
      "metadata": {
        "id": "-5SI0JZLG72f",
        "outputId": "af450e42-1bd3-4f00-c90f-64b09d056e3a"
      },
      "outputs": [
        {
          "name": "stdout",
          "output_type": "stream",
          "text": [
            "       major  salary\n",
            "2    Finance    3155\n",
            "8    Finance    3775\n",
            "9    Finance    3875\n",
            "16   Finance    3355\n",
            "18   Finance    4000\n",
            "19   Finance    4245\n",
            "20   Finance    2950\n",
            "26   Finance    3700\n",
            "42   Finance    2955\n",
            "60   Finance    3875\n",
            "65   Finance    3350\n",
            "71   Finance    3370\n",
            "74   Finance    3400\n",
            "76   Finance    4075\n",
            "77   Finance    3530\n",
            "92   Finance    5000\n",
            "99   Finance    3810\n",
            "100  Finance    4175\n",
            "101  Finance    3535\n",
            "104  Finance    3665\n",
            "108  Finance    3800\n"
          ]
        }
      ],
      "source": [
        "grouped = df.groupby('major')\n",
        "print (grouped.get_group('Finance'))"
      ]
    },
    {
      "cell_type": "code",
      "execution_count": null,
      "metadata": {
        "id": "6FazAhf0G72g",
        "outputId": "18692be7-f56e-4cec-b5b9-86d0dcb266ff"
      },
      "outputs": [
        {
          "name": "stdout",
          "output_type": "stream",
          "text": [
            "         major  salary\n",
            "3   Accounting    3855\n",
            "5   Accounting    3110\n",
            "6   Accounting    3880\n",
            "10  Accounting    4560\n",
            "11  Accounting    3475\n",
            "17  Accounting    4205\n",
            "23  Accounting    4150\n",
            "25  Accounting    3140\n",
            "28  Accounting    3760\n",
            "32  Accounting    4280\n",
            "34  Accounting    3240\n",
            "37  Accounting    3800\n",
            "39  Accounting    4890\n",
            "55  Accounting    3780\n",
            "63  Accounting    3020\n",
            "66  Accounting    5000\n",
            "67  Accounting    4040\n",
            "68  Accounting    3770\n",
            "69  Accounting    4995\n",
            "72  Accounting    4340\n",
            "73  Accounting    4225\n",
            "83  Accounting    5650\n",
            "84  Accounting    4090\n",
            "86  Accounting    3800\n",
            "88  Accounting    3095\n",
            "91  Accounting    2700\n",
            "94  Accounting    5500\n",
            "97  Accounting    4210\n"
          ]
        }
      ],
      "source": [
        "grouped = df.groupby('major')\n",
        "print (grouped.get_group('Accounting'))"
      ]
    },
    {
      "cell_type": "code",
      "execution_count": null,
      "metadata": {
        "id": "EIpL4lz4G72g",
        "outputId": "f04e5199-fcdf-46d0-95d8-2738737a5382"
      },
      "outputs": [
        {
          "name": "stdout",
          "output_type": "stream",
          "text": [
            "            major  salary\n",
            "4    Info Systems    4220\n",
            "40   Info Systems    3855\n",
            "45   Info Systems    4360\n",
            "46   Info Systems    4285\n",
            "64   Info Systems    4410\n",
            "70   Info Systems    5030\n",
            "78   Info Systems    3325\n",
            "85   Info Systems    3715\n",
            "89   Info Systems    3765\n",
            "90   Info Systems    3860\n",
            "93   Info Systems    4610\n",
            "95   Info Systems    3610\n",
            "96   Info Systems    3865\n",
            "103  Info Systems    3965\n",
            "105  Info Systems    4295\n",
            "109  Info Systems    2830\n"
          ]
        }
      ],
      "source": [
        "grouped = df.groupby('major')\n",
        "print (grouped.get_group('Info Systems'))"
      ]
    },
    {
      "cell_type": "code",
      "execution_count": null,
      "metadata": {
        "id": "VLiKxpgqG72h",
        "outputId": "d4699461-40c3-4015-a2ad-b0f5e6768a9f"
      },
      "outputs": [
        {
          "name": "stdout",
          "output_type": "stream",
          "text": [
            "         major  salary\n",
            "12   Marketing    2780\n",
            "13   Marketing    3715\n",
            "14   Marketing    3260\n",
            "21   Marketing    3270\n",
            "24   Marketing    3200\n",
            "27   Marketing    3480\n",
            "29   Marketing    3440\n",
            "30   Marketing    3535\n",
            "35   Marketing    3115\n",
            "36   Marketing    3645\n",
            "38   Marketing    3635\n",
            "41   Marketing    3110\n",
            "44   Marketing    3935\n",
            "47   Marketing    2495\n",
            "49   Marketing    4485\n",
            "52   Marketing    3190\n",
            "53   Marketing    3190\n",
            "58   Marketing    3645\n",
            "61   Marketing    2900\n",
            "79   Marketing    3025\n",
            "80   Marketing    4010\n",
            "110  Marketing    2530\n"
          ]
        }
      ],
      "source": [
        "grouped = df.groupby('major')\n",
        "print (grouped.get_group('Marketing'))"
      ]
    },
    {
      "cell_type": "code",
      "execution_count": null,
      "metadata": {
        "id": "Uh2-CzjOG72h",
        "outputId": "75479a96-3c7f-4b7e-8002-d03a8d694ccf"
      },
      "outputs": [
        {
          "data": {
            "text/plain": [
              "major\n",
              "Accounting      4020.0\n",
              "Finance         3695.0\n",
              "Info Systems    4000.0\n",
              "Management      3180.0\n",
              "Marketing       3345.0\n",
              "Name: salary, dtype: float64"
            ]
          },
          "execution_count": 17,
          "metadata": {},
          "output_type": "execute_result"
        }
      ],
      "source": [
        "df.groupby('major')['salary'].mean()"
      ]
    },
    {
      "cell_type": "code",
      "execution_count": null,
      "metadata": {
        "id": "Q9Y4L7pBG72i",
        "outputId": "41204c09-f44e-47a0-a991-d7b4162004fe"
      },
      "outputs": [
        {
          "data": {
            "text/plain": [
              "major\n",
              "Accounting      3960.0\n",
              "Finance         3700.0\n",
              "Info Systems    3915.0\n",
              "Management      3155.0\n",
              "Marketing       3265.0\n",
              "Name: salary, dtype: float64"
            ]
          },
          "execution_count": 18,
          "metadata": {},
          "output_type": "execute_result"
        }
      ],
      "source": [
        "df.groupby('major')['salary'].median()"
      ]
    },
    {
      "cell_type": "code",
      "execution_count": null,
      "metadata": {
        "id": "Rjz_X18OG72i",
        "outputId": "a24c8ef3-0000-48ab-914c-6c044a4fc8eb"
      },
      "outputs": [
        {
          "data": {
            "text/plain": [
              "major\n",
              "Accounting      734.056462\n",
              "Finance         471.383602\n",
              "Info Systems    524.118307\n",
              "Management      497.646636\n",
              "Marketing       475.629908\n",
              "Name: salary, dtype: float64"
            ]
          },
          "execution_count": 19,
          "metadata": {},
          "output_type": "execute_result"
        }
      ],
      "source": [
        "df.groupby('major')['salary'].std()"
      ]
    },
    {
      "cell_type": "code",
      "execution_count": null,
      "metadata": {
        "id": "xOHCLtMNG72i",
        "outputId": "9f2fb2f3-0dd5-4b96-8ab6-8f85a710c80f"
      },
      "outputs": [
        {
          "data": {
            "text/plain": [
              "major\n",
              "Accounting      2700\n",
              "Finance         2950\n",
              "Info Systems    2830\n",
              "Management      2240\n",
              "Marketing       2495\n",
              "Name: salary, dtype: int64"
            ]
          },
          "execution_count": 20,
          "metadata": {},
          "output_type": "execute_result"
        }
      ],
      "source": [
        "df.groupby('major')['salary'].min()"
      ]
    },
    {
      "cell_type": "code",
      "execution_count": null,
      "metadata": {
        "id": "kN55oq-GG72j",
        "outputId": "d01b1775-8198-4306-8795-816148ed9b8d"
      },
      "outputs": [
        {
          "data": {
            "text/plain": [
              "major\n",
              "Accounting      5650\n",
              "Finance         5000\n",
              "Info Systems    5030\n",
              "Management      4285\n",
              "Marketing       4485\n",
              "Name: salary, dtype: int64"
            ]
          },
          "execution_count": 21,
          "metadata": {},
          "output_type": "execute_result"
        }
      ],
      "source": [
        "df.groupby('major')['salary'].max()"
      ]
    },
    {
      "cell_type": "code",
      "execution_count": null,
      "metadata": {
        "id": "QKnZdWhLG72j",
        "outputId": "0eb4b53f-2efd-4095-c1f9-497b4390dc7b"
      },
      "outputs": [
        {
          "data": {
            "text/plain": [
              "major\n",
              "Accounting      538838.888889\n",
              "Finance         222202.500000\n",
              "Info Systems    274700.000000\n",
              "Management      247652.173913\n",
              "Marketing       226223.809524\n",
              "Name: salary, dtype: float64"
            ]
          },
          "execution_count": 22,
          "metadata": {},
          "output_type": "execute_result"
        }
      ],
      "source": [
        "df.groupby('major')['salary'].var()"
      ]
    },
    {
      "cell_type": "code",
      "execution_count": null,
      "metadata": {
        "id": "q66H2Ef6G72k",
        "outputId": "cb3a56f4-ef92-4ed4-baf8-c7f61411212e"
      },
      "outputs": [
        {
          "data": {
            "image/png": "[encoded data removed]",
            "text/plain": [
              "<Figure size 1440x360 with 1 Axes>"
            ]
          },
          "metadata": {},
          "output_type": "display_data"
        }
      ],
      "source": [
        "# Visualizing major data-set with histplot\n",
        "\n",
        "plt.figure(figsize=(20,5))\n",
        "y=sns.histplot(x='major', data=df, bins=5, shrink=.9,stat='count',kde = True,color='red',)\n",
        "y.bar_label(y.containers[0])\n",
        "plt.title('Histplot - Major')\n",
        "plt.xlabel('Major')\n",
        "plt.ylabel('Count')\n",
        "plt.show()"
      ]
    },
    {
      "cell_type": "code",
      "execution_count": null,
      "metadata": {
        "id": "rhrGmsz5G72l",
        "outputId": "eb98e55e-d6bd-4925-9c63-8d3aa2588523"
      },
      "outputs": [
        {
          "data": {
            "text/plain": [
              "Accounting      28\n",
              "Management      24\n",
              "Marketing       22\n",
              "Finance         21\n",
              "Info Systems    16\n",
              "Name: major, dtype: int64"
            ]
          },
          "execution_count": 24,
          "metadata": {},
          "output_type": "execute_result"
        }
      ],
      "source": [
        "df['major'].value_counts()"
      ]
    },
    {
      "cell_type": "code",
      "execution_count": null,
      "metadata": {
        "id": "EC--iJpBG72l",
        "outputId": "58b317b7-2c1e-4179-af27-9f9dcb6eb5a6"
      },
      "outputs": [
        {
          "data": {
            "image/png": "[encoded data removed]",
            "text/plain": [
              "<Figure size 1440x360 with 1 Axes>"
            ]
          },
          "metadata": {},
          "output_type": "display_data"
        }
      ],
      "source": [
        "# Visualizing salary data-set with histplot\n",
        "\n",
        "plt.figure(figsize=(20,5))\n",
        "y=sns.histplot(x='salary', data=df, bins=60, shrink=.9,stat='count',kde = True,color='red',)\n",
        "y.bar_label(y.containers[0])\n",
        "plt.title('Histplot - Salary')\n",
        "plt.xlabel('Salary')\n",
        "plt.ylabel('Count')\n",
        "plt.show()"
      ]
    },
    {
      "cell_type": "code",
      "execution_count": null,
      "metadata": {
        "id": "y__YENwMG72m",
        "outputId": "f30b3307-7a3c-46ad-de99-0560abbc74a3"
      },
      "outputs": [
        {
          "data": {
            "text/plain": [
              "3190    3\n",
              "3800    3\n",
              "3535    2\n",
              "3645    2\n",
              "3715    2\n",
              "       ..\n",
              "3115    1\n",
              "3240    1\n",
              "4280    1\n",
              "2630    1\n",
              "2530    1\n",
              "Name: salary, Length: 95, dtype: int64"
            ]
          },
          "execution_count": 26,
          "metadata": {},
          "output_type": "execute_result"
        }
      ],
      "source": [
        "df['salary'].value_counts()"
      ]
    },
    {
      "cell_type": "code",
      "execution_count": null,
      "metadata": {
        "id": "333KOtL0G72m",
        "outputId": "45360325-33c6-401d-d0cc-c16fa87aabd7"
      },
      "outputs": [
        {
          "data": {
            "image/png": "[encoded data removed]",
            "text/plain": [
              "<Figure size 1440x360 with 1 Axes>"
            ]
          },
          "metadata": {},
          "output_type": "display_data"
        }
      ],
      "source": [
        "# Visualizing all data-set with lineplot\n",
        "\n",
        "plt.figure(figsize=(20,5))\n",
        "sns.lineplot(x=\"major\", y=\"salary\", data=df)\n",
        "plt.title('Major-Salary data-set')\n",
        "plt.show()"
      ]
    },
    {
      "cell_type": "raw",
      "metadata": {
        "id": "iIBjztozG72m"
      },
      "source": [
        "# 3. Poisson Distribution: instead of counting successes in a certain number of trials like the Binomial Distribution does, the Poisson distribution does something different: it counts the number of occurrences per unit of time/space (think of “occurrences” as successes). For example, if someone is known to catch on average 3 fish per hour, then a Poisson distribution could model the probability of the number of fish caught per hour (i.e. what is the probability of catching certain number of fish). The advantage of the Poisson distribution is that the possible number of observed occurrences is unlimited in theory: one might catch 3 fish on average, but in a happy-hour they might catch even 100 (though this is veeeeery unlikely).\n",
        "If the random variable 𝑋𝑋 follows a Poisson distribution, and we label the average number of occurrences per unit by 𝜆𝜆 > 0, we write 𝑋𝑋~𝑃𝑃𝑃𝑃(𝜆𝜆), then the probability of observing 𝑘𝑘 occurrences (𝑘𝑘 is integer and is at least zero) is given by: 𝑃(𝑋=𝑘)=𝑒−λ λ𝑘𝑘!\n",
        "In our previous discussion, if 𝐹 is the number of fish caught, then 𝜆 = 3 and 𝐹~𝑃o(3) which means that:\n",
        "𝑃(𝐹=𝑘)=𝑒−3 3𝑘𝑘!\n",
        "a) Tabulate the probabilities1 of catching 𝑘 = 0 to 𝑘 = 10 fish (beyond 10 the probabilities are very small)\n",
        "b) Visualize the probabilities using a bar graph."
      ]
    },
    {
      "cell_type": "code",
      "execution_count": null,
      "metadata": {
        "scrolled": false,
        "id": "UdI8P0DXG72n",
        "outputId": "47b2a344-2d70-40af-a7f7-d93154ea6d00"
      },
      "outputs": [
        {
          "name": "stdout",
          "output_type": "stream",
          "text": [
            "Poisson: Probability of the number of fish caught\n",
            "0.101\n"
          ]
        },
        {
          "data": {
            "image/png": "[encoded data removed]",
            "text/plain": [
              "<Figure size 1440x360 with 1 Axes>"
            ]
          },
          "metadata": {},
          "output_type": "display_data"
        }
      ],
      "source": [
        "# 1 nacin\n",
        "\n",
        "from scipy.stats import poisson\n",
        "import numpy as np\n",
        "import matplotlib.pyplot as plt\n",
        "\n",
        "def poisson_pmf(k, lambda_val):\n",
        "\n",
        "    x = np.arange(0, step=0.1, stop=k + 1)\n",
        "    pmf = poisson.pmf(k=x, mu=lambda_val)\n",
        "    print(\"Poisson: Probability of the number of fish caught\")\n",
        "    print(np.round(poisson.pmf(k=k, mu=lambda_val), 3))\n",
        "    \n",
        "    # plotting the PMF\n",
        "    fig, ax = plt.subplots(1, 1, figsize=(20, 5))\n",
        "    \n",
        "    # removing all borders except bottom\n",
        "    ax.spines['top'].set_visible(False)\n",
        "    ax.spines['right'].set_visible(False)\n",
        "    \n",
        "    plt.bar(x, pmf * 100, color='#0F72AC')\n",
        "    plt.xlabel('Number of catch fish', fontsize=12, labelpad=20)\n",
        "    plt.ylabel('P(X=k) | Probability of k occurrences', fontsize=12, labelpad=20)\n",
        "    plt.show()\n",
        "poisson_pmf(k=5,lambda_val=3)\n",
        "    \n",
        "\n",
        "# poisson_pmf(k=0, lambda_val=3), vo ovoj del za k moze da se zadade od 0 do 10 i da se vidi verojatnosta)"
      ]
    },
    {
      "cell_type": "code",
      "execution_count": null,
      "metadata": {
        "id": "pkhimGpOG72o",
        "outputId": "1b7eb4b4-a419-43d2-dbd3-30da7c4e2c59"
      },
      "outputs": [
        {
          "name": "stdout",
          "output_type": "stream",
          "text": [
            "0.10081881344492458 0.9997076630493528\n"
          ]
        }
      ],
      "source": [
        "# 2 nacin(pmf)\n",
        "\n",
        "from scipy.stats import poisson\n",
        "probab1=poisson.pmf(k=5,mu=3)\n",
        "# vo ovoj del za k moze da se zadade od 0 do 10 i da se vidi verojatnosta)\n",
        "probab2=sum(poisson.pmf(k=[0,1,2,3,4,5,6,7,8,9,10],mu=3))\n",
        "print(probab1,probab2)"
      ]
    },
    {
      "cell_type": "code",
      "execution_count": null,
      "metadata": {
        "id": "6dDc4KHTG72o",
        "outputId": "84e616bc-89d6-42f7-c810-8c653318b4ee"
      },
      "outputs": [
        {
          "name": "stdout",
          "output_type": "stream",
          "text": [
            "╒══════════╤══════╤═══════╤═══════╤═══════╤═══════╤═══════╤══════╤═══════╤═══════╤═══════╤════════╕\n",
            "│ K        │ 0    │ 1     │ 2     │ 3     │ 4     │ 5     │ 6    │ 7     │ 8     │ 9     │ 10     │\n",
            "├──────────┼──────┼───────┼───────┼───────┼───────┼───────┼──────┼───────┼───────┼───────┼────────┤\n",
            "│ K Result │ 0.05 │ 0.149 │ 0.224 │ 0.224 │ 0.168 │ 0.101 │ 0.05 │ 0.022 │ 0.008 │ 0.003 │  0.001 │\n",
            "╘══════════╧══════╧═══════╧═══════╧═══════╧═══════╧═══════╧══════╧═══════╧═══════╧═══════╧════════╛\n"
          ]
        }
      ],
      "source": [
        "from tabulate import tabulate\n",
        "table = [[\"K\",\"0\",\"1\",\"2\",\"3\",\"4\",\"5\",\"6\",\"7\",\"8\",\"9\",\"10\"],[\"K Result\",\"0.05\",\"0.149\",\"0.224\",\"0.224\",\"0.168\",\"0.101\",\"0.05\",\"0.022\",\"0.008\",\"0.003\",\"0.001\"]]\n",
        "print(tabulate(table, tablefmt='fancy_grid'))"
      ]
    },
    {
      "cell_type": "code",
      "execution_count": null,
      "metadata": {
        "id": "mgQTzHxkG72p"
      },
      "outputs": [],
      "source": [
        "# Spored prikazanoto mozeme da zaklucime deka kolku e pogolem brojot na k, tolku verojatnosta e se pomala \n",
        "# i pomala da se ulovat ribite."
      ]
    }
  ],
  "metadata": {
    "colab": {
      "provenance": []
    },
    "kernelspec": {
      "display_name": "Python 3 (ipykernel)",
      "language": "python",
      "name": "python3"
    },
    "language_info": {
      "codemirror_mode": {
        "name": "ipython",
        "version": 3
      },
      "file_extension": ".py",
      "mimetype": "text/x-python",
      "name": "python",
      "nbconvert_exporter": "python",
      "pygments_lexer": "ipython3",
      "version": "3.9.12"
    }
  },
  "nbformat": 4,
  "nbformat_minor": 0
}